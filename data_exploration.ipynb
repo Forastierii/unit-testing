{
 "cells": [
  {
   "attachments": {},
   "cell_type": "markdown",
   "metadata": {},
   "source": [
    "# Importing the libraries and dataset"
   ]
  },
  {
   "cell_type": "code",
   "execution_count": 69,
   "metadata": {},
   "outputs": [],
   "source": [
    "import pandas as pd\n",
    "\n",
    "file = pd.read_csv(\"data/processing.csv\")"
   ]
  },
  {
   "attachments": {},
   "cell_type": "markdown",
   "metadata": {},
   "source": [
    "# Checking the data shape and columns"
   ]
  },
  {
   "cell_type": "code",
   "execution_count": 70,
   "metadata": {},
   "outputs": [
    {
     "data": {
      "text/plain": [
       "(3979, 16)"
      ]
     },
     "execution_count": 70,
     "metadata": {},
     "output_type": "execute_result"
    }
   ],
   "source": [
    "file.shape"
   ]
  },
  {
   "cell_type": "code",
   "execution_count": 71,
   "metadata": {},
   "outputs": [
    {
     "data": {
      "text/html": [
       "<div>\n",
       "<style scoped>\n",
       "    .dataframe tbody tr th:only-of-type {\n",
       "        vertical-align: middle;\n",
       "    }\n",
       "\n",
       "    .dataframe tbody tr th {\n",
       "        vertical-align: top;\n",
       "    }\n",
       "\n",
       "    .dataframe thead th {\n",
       "        text-align: right;\n",
       "    }\n",
       "</style>\n",
       "<table border=\"1\" class=\"dataframe\">\n",
       "  <thead>\n",
       "    <tr style=\"text-align: right;\">\n",
       "      <th></th>\n",
       "      <th>id</th>\n",
       "      <th>facility_id</th>\n",
       "      <th>facility_type</th>\n",
       "      <th>year</th>\n",
       "      <th>input</th>\n",
       "      <th>input_value_tonnes</th>\n",
       "      <th>output</th>\n",
       "      <th>output_value_tonnes</th>\n",
       "      <th>grade_ppm</th>\n",
       "      <th>recovery_rate</th>\n",
       "      <th>amount_sold_tonnes</th>\n",
       "      <th>metal_payable_tonnes</th>\n",
       "      <th>incl_purchased</th>\n",
       "      <th>reporting_period</th>\n",
       "      <th>source_id</th>\n",
       "      <th>comment</th>\n",
       "    </tr>\n",
       "  </thead>\n",
       "  <tbody>\n",
       "    <tr>\n",
       "      <th>0</th>\n",
       "      <td>1</td>\n",
       "      <td>COM00005.00</td>\n",
       "      <td>Refinery</td>\n",
       "      <td>2008</td>\n",
       "      <td>Nepheline ore, Limestone</td>\n",
       "      <td>NaN</td>\n",
       "      <td>Alumina</td>\n",
       "      <td>1069000.0</td>\n",
       "      <td>NaN</td>\n",
       "      <td>NaN</td>\n",
       "      <td>NaN</td>\n",
       "      <td>NaN</td>\n",
       "      <td>NaN</td>\n",
       "      <td>NaN</td>\n",
       "      <td>det_1291</td>\n",
       "      <td>NaN</td>\n",
       "    </tr>\n",
       "    <tr>\n",
       "      <th>1</th>\n",
       "      <td>2</td>\n",
       "      <td>COM00005.00</td>\n",
       "      <td>Refinery</td>\n",
       "      <td>2009</td>\n",
       "      <td>Nepheline ore, Limestone</td>\n",
       "      <td>NaN</td>\n",
       "      <td>Alumina</td>\n",
       "      <td>922000.0</td>\n",
       "      <td>NaN</td>\n",
       "      <td>NaN</td>\n",
       "      <td>NaN</td>\n",
       "      <td>NaN</td>\n",
       "      <td>NaN</td>\n",
       "      <td>NaN</td>\n",
       "      <td>det_1291</td>\n",
       "      <td>NaN</td>\n",
       "    </tr>\n",
       "    <tr>\n",
       "      <th>2</th>\n",
       "      <td>3</td>\n",
       "      <td>COM00005.00</td>\n",
       "      <td>Refinery</td>\n",
       "      <td>2010</td>\n",
       "      <td>Nepheline ore, Limestone</td>\n",
       "      <td>NaN</td>\n",
       "      <td>Alumina</td>\n",
       "      <td>1000000.0</td>\n",
       "      <td>NaN</td>\n",
       "      <td>NaN</td>\n",
       "      <td>NaN</td>\n",
       "      <td>NaN</td>\n",
       "      <td>NaN</td>\n",
       "      <td>NaN</td>\n",
       "      <td>det_2008</td>\n",
       "      <td>NaN</td>\n",
       "    </tr>\n",
       "    <tr>\n",
       "      <th>3</th>\n",
       "      <td>4</td>\n",
       "      <td>COM00005.00</td>\n",
       "      <td>Refinery</td>\n",
       "      <td>2011</td>\n",
       "      <td>Nepheline ore, Limestone</td>\n",
       "      <td>NaN</td>\n",
       "      <td>Alumina</td>\n",
       "      <td>977000.0</td>\n",
       "      <td>NaN</td>\n",
       "      <td>NaN</td>\n",
       "      <td>NaN</td>\n",
       "      <td>NaN</td>\n",
       "      <td>NaN</td>\n",
       "      <td>NaN</td>\n",
       "      <td>det_2008</td>\n",
       "      <td>NaN</td>\n",
       "    </tr>\n",
       "    <tr>\n",
       "      <th>4</th>\n",
       "      <td>5</td>\n",
       "      <td>COM00005.00</td>\n",
       "      <td>Refinery</td>\n",
       "      <td>2012</td>\n",
       "      <td>Nepheline ore, Limestone</td>\n",
       "      <td>NaN</td>\n",
       "      <td>Alumina</td>\n",
       "      <td>945000.0</td>\n",
       "      <td>NaN</td>\n",
       "      <td>NaN</td>\n",
       "      <td>NaN</td>\n",
       "      <td>NaN</td>\n",
       "      <td>NaN</td>\n",
       "      <td>NaN</td>\n",
       "      <td>det_1303</td>\n",
       "      <td>NaN</td>\n",
       "    </tr>\n",
       "  </tbody>\n",
       "</table>\n",
       "</div>"
      ],
      "text/plain": [
       "   id  facility_id facility_type  year                     input  \\\n",
       "0   1  COM00005.00      Refinery  2008  Nepheline ore, Limestone   \n",
       "1   2  COM00005.00      Refinery  2009  Nepheline ore, Limestone   \n",
       "2   3  COM00005.00      Refinery  2010  Nepheline ore, Limestone   \n",
       "3   4  COM00005.00      Refinery  2011  Nepheline ore, Limestone   \n",
       "4   5  COM00005.00      Refinery  2012  Nepheline ore, Limestone   \n",
       "\n",
       "   input_value_tonnes   output  output_value_tonnes  grade_ppm  recovery_rate  \\\n",
       "0                 NaN  Alumina            1069000.0        NaN            NaN   \n",
       "1                 NaN  Alumina             922000.0        NaN            NaN   \n",
       "2                 NaN  Alumina            1000000.0        NaN            NaN   \n",
       "3                 NaN  Alumina             977000.0        NaN            NaN   \n",
       "4                 NaN  Alumina             945000.0        NaN            NaN   \n",
       "\n",
       "   amount_sold_tonnes  metal_payable_tonnes incl_purchased reporting_period  \\\n",
       "0                 NaN                   NaN            NaN              NaN   \n",
       "1                 NaN                   NaN            NaN              NaN   \n",
       "2                 NaN                   NaN            NaN              NaN   \n",
       "3                 NaN                   NaN            NaN              NaN   \n",
       "4                 NaN                   NaN            NaN              NaN   \n",
       "\n",
       "  source_id comment  \n",
       "0  det_1291     NaN  \n",
       "1  det_1291     NaN  \n",
       "2  det_2008     NaN  \n",
       "3  det_2008     NaN  \n",
       "4  det_1303     NaN  "
      ]
     },
     "execution_count": 71,
     "metadata": {},
     "output_type": "execute_result"
    }
   ],
   "source": [
    "file.head()"
   ]
  },
  {
   "attachments": {},
   "cell_type": "markdown",
   "metadata": {},
   "source": [
    "# Processing the data for the client"
   ]
  },
  {
   "cell_type": "code",
   "execution_count": 72,
   "metadata": {},
   "outputs": [
    {
     "name": "stdout",
     "output_type": "stream",
     "text": [
      "After filtering the whole datset, we end up with 12 entries representing 12 refineries.\n"
     ]
    }
   ],
   "source": [
    "# The latest client plans to build a new Limestone processing plant (a refinery) to produce Alumina. So right now it is prospecting competitors.\n",
    "file = file[(file['output']=='Alumina')&(file['facility_type']=='Refinery')&(file['input']=='Nepheline ore, Limestone')]\n",
    "print(\"After filtering the whole datset, we end up with {} entries representing 12 refineries.\".format(file.shape[0]))"
   ]
  },
  {
   "cell_type": "code",
   "execution_count": 73,
   "metadata": {},
   "outputs": [],
   "source": [
    "# We will drop columns containing nulls\n",
    "file = file.dropna(axis=1)"
   ]
  },
  {
   "cell_type": "code",
   "execution_count": 74,
   "metadata": {},
   "outputs": [
    {
     "name": "stdout",
     "output_type": "stream",
     "text": [
      "We inform our client that there is only one facility_id in the area, identified by the tag 'COM00005.00'.\n"
     ]
    }
   ],
   "source": [
    "print(\"We inform our client that there is only one facility_id in the area, identified by the tag '{}'.\".format(file['facility_id'].value_counts().index[0]))"
   ]
  },
  {
   "cell_type": "code",
   "execution_count": 75,
   "metadata": {},
   "outputs": [],
   "source": [
    "# Since there is only one facility id and we already know the input, output and facility type, we will drop those too. There is no use for source_id.\n",
    "file = file[['year', 'output_value_tonnes']]"
   ]
  },
  {
   "cell_type": "code",
   "execution_count": 76,
   "metadata": {},
   "outputs": [],
   "source": [
    "# The client database is all in pounds, so we should convert our data from tonne (kg) to ton (pounds)\n",
    "ton_to_tonne_ratio = 1.1\n",
    "file['output_value_tonnes'] = file['output_value_tonnes'].values*ton_to_tonne_ratio"
   ]
  },
  {
   "cell_type": "code",
   "execution_count": 77,
   "metadata": {},
   "outputs": [
    {
     "data": {
      "text/html": [
       "<div>\n",
       "<style scoped>\n",
       "    .dataframe tbody tr th:only-of-type {\n",
       "        vertical-align: middle;\n",
       "    }\n",
       "\n",
       "    .dataframe tbody tr th {\n",
       "        vertical-align: top;\n",
       "    }\n",
       "\n",
       "    .dataframe thead th {\n",
       "        text-align: right;\n",
       "    }\n",
       "</style>\n",
       "<table border=\"1\" class=\"dataframe\">\n",
       "  <thead>\n",
       "    <tr style=\"text-align: right;\">\n",
       "      <th></th>\n",
       "      <th>year</th>\n",
       "      <th>output_value_tonnes</th>\n",
       "    </tr>\n",
       "  </thead>\n",
       "  <tbody>\n",
       "    <tr>\n",
       "      <th>0</th>\n",
       "      <td>2008</td>\n",
       "      <td>1175900.0</td>\n",
       "    </tr>\n",
       "    <tr>\n",
       "      <th>1</th>\n",
       "      <td>2009</td>\n",
       "      <td>1014200.0</td>\n",
       "    </tr>\n",
       "    <tr>\n",
       "      <th>2</th>\n",
       "      <td>2010</td>\n",
       "      <td>1100000.0</td>\n",
       "    </tr>\n",
       "    <tr>\n",
       "      <th>3</th>\n",
       "      <td>2011</td>\n",
       "      <td>1074700.0</td>\n",
       "    </tr>\n",
       "    <tr>\n",
       "      <th>4</th>\n",
       "      <td>2012</td>\n",
       "      <td>1039500.0</td>\n",
       "    </tr>\n",
       "    <tr>\n",
       "      <th>5</th>\n",
       "      <td>2013</td>\n",
       "      <td>1018600.0</td>\n",
       "    </tr>\n",
       "    <tr>\n",
       "      <th>6</th>\n",
       "      <td>2014</td>\n",
       "      <td>980100.0</td>\n",
       "    </tr>\n",
       "    <tr>\n",
       "      <th>7</th>\n",
       "      <td>2015</td>\n",
       "      <td>968000.0</td>\n",
       "    </tr>\n",
       "    <tr>\n",
       "      <th>8</th>\n",
       "      <td>2016</td>\n",
       "      <td>1007600.0</td>\n",
       "    </tr>\n",
       "    <tr>\n",
       "      <th>9</th>\n",
       "      <td>2017</td>\n",
       "      <td>1039500.0</td>\n",
       "    </tr>\n",
       "    <tr>\n",
       "      <th>10</th>\n",
       "      <td>2018</td>\n",
       "      <td>936100.0</td>\n",
       "    </tr>\n",
       "    <tr>\n",
       "      <th>11</th>\n",
       "      <td>2019</td>\n",
       "      <td>905300.0</td>\n",
       "    </tr>\n",
       "  </tbody>\n",
       "</table>\n",
       "</div>"
      ],
      "text/plain": [
       "    year  output_value_tonnes\n",
       "0   2008            1175900.0\n",
       "1   2009            1014200.0\n",
       "2   2010            1100000.0\n",
       "3   2011            1074700.0\n",
       "4   2012            1039500.0\n",
       "5   2013            1018600.0\n",
       "6   2014             980100.0\n",
       "7   2015             968000.0\n",
       "8   2016            1007600.0\n",
       "9   2017            1039500.0\n",
       "10  2018             936100.0\n",
       "11  2019             905300.0"
      ]
     },
     "execution_count": 77,
     "metadata": {},
     "output_type": "execute_result"
    }
   ],
   "source": [
    "file"
   ]
  },
  {
   "cell_type": "code",
   "execution_count": null,
   "metadata": {},
   "outputs": [],
   "source": []
  }
 ],
 "metadata": {
  "kernelspec": {
   "display_name": "Python 3",
   "language": "python",
   "name": "python3"
  },
  "language_info": {
   "codemirror_mode": {
    "name": "ipython",
    "version": 3
   },
   "file_extension": ".py",
   "mimetype": "text/x-python",
   "name": "python",
   "nbconvert_exporter": "python",
   "pygments_lexer": "ipython3",
   "version": "3.9.0"
  },
  "orig_nbformat": 4
 },
 "nbformat": 4,
 "nbformat_minor": 2
}
